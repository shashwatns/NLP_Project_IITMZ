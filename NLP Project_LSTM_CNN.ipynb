{
 "cells": [
  {
   "cell_type": "code",
   "execution_count": 1,
   "id": "01153fe5-dcc6-4e2c-b0cc-9dac59bd2a10",
   "metadata": {},
   "outputs": [],
   "source": [
    "import re\n",
    "import numpy as np\n",
    "import pandas as pd\n",
    "import tensorflow as tf\n",
    "from tensorflow.keras.preprocessing.text import Tokenizer\n",
    "from tensorflow.keras.preprocessing.sequence import pad_sequences\n",
    "from tensorflow.keras.models import Sequential\n",
    "from tensorflow.keras.layers import Embedding, LSTM, Conv1D, GlobalMaxPooling1D, Dense, Dropout\n",
    "from tensorflow.keras.optimizers import Adam\n",
    "from sklearn.model_selection import train_test_split\n",
    "from sklearn.preprocessing import LabelEncoder\n",
    "from sklearn.metrics import log_loss"
   ]
  },
  {
   "cell_type": "markdown",
   "id": "02ba9485-ae75-4356-b2f5-47fcfb7d307b",
   "metadata": {},
   "source": [
    "# Load Data"
   ]
  },
  {
   "cell_type": "code",
   "execution_count": 2,
   "id": "6c54f05a-fbcd-4623-93af-5b926f569087",
   "metadata": {},
   "outputs": [],
   "source": [
    "\n",
    "train_df = pd.read_csv(r\"C:\\IIT\\NLP Project\\Train.csv\")\n",
    "test_df = pd.read_csv(r\"C:\\IIT\\NLP Project\\Test.csv\")"
   ]
  },
  {
   "cell_type": "markdown",
   "id": "f39c73ce-b04f-41a4-a2d0-e0a72622a8d1",
   "metadata": {},
   "source": [
    "# Text cleaning"
   ]
  },
  {
   "cell_type": "code",
   "execution_count": 3,
   "id": "5cbb6741-ee68-489f-b4f0-3956505d4b25",
   "metadata": {},
   "outputs": [],
   "source": [
    "\n",
    "def clean_text(text):\n",
    "    text = text.lower()\n",
    "    text = re.sub(r'[^\\w\\s]', '', text)\n",
    "    text = re.sub(r'\\d+', '', text)\n",
    "    return text.strip()\n",
    "\n",
    "train_df[\"clean_content\"] = train_df[\"content\"].apply(clean_text)\n",
    "test_df[\"clean_content\"] = test_df[\"content\"].apply(clean_text)"
   ]
  },
  {
   "cell_type": "markdown",
   "id": "6f85d133-3abd-4c6e-85f6-f29d4fa3f17f",
   "metadata": {},
   "source": [
    "# Encode labels"
   ]
  },
  {
   "cell_type": "code",
   "execution_count": 4,
   "id": "173fb794-fcaa-4057-94b1-ead1c4a21b59",
   "metadata": {},
   "outputs": [],
   "source": [
    "\n",
    "label_encoder = LabelEncoder()\n",
    "train_df[\"category_encoded\"] = label_encoder.fit_transform(train_df[\"category\"])\n",
    "num_classes = len(label_encoder.classes_)"
   ]
  },
  {
   "cell_type": "code",
   "execution_count": 19,
   "id": "91f57756-d01a-48a6-8373-4184d921353d",
   "metadata": {},
   "outputs": [
    {
     "data": {
      "text/html": [
       "<div>\n",
       "<style scoped>\n",
       "    .dataframe tbody tr th:only-of-type {\n",
       "        vertical-align: middle;\n",
       "    }\n",
       "\n",
       "    .dataframe tbody tr th {\n",
       "        vertical-align: top;\n",
       "    }\n",
       "\n",
       "    .dataframe thead th {\n",
       "        text-align: right;\n",
       "    }\n",
       "</style>\n",
       "<table border=\"1\" class=\"dataframe\">\n",
       "  <thead>\n",
       "    <tr style=\"text-align: right;\">\n",
       "      <th></th>\n",
       "      <th>id</th>\n",
       "      <th>content</th>\n",
       "      <th>category</th>\n",
       "      <th>clean_content</th>\n",
       "      <th>category_encoded</th>\n",
       "    </tr>\n",
       "  </thead>\n",
       "  <tbody>\n",
       "    <tr>\n",
       "      <th>0</th>\n",
       "      <td>SW0</td>\n",
       "      <td>SERIKALI imesema haitakuwa tayari kuona amani...</td>\n",
       "      <td>Kitaifa</td>\n",
       "      <td>serikali imesema haitakuwa tayari kuona amani ...</td>\n",
       "      <td>3</td>\n",
       "    </tr>\n",
       "    <tr>\n",
       "      <th>1</th>\n",
       "      <td>SW1</td>\n",
       "      <td>Mkuu wa Mkoa wa Tabora, Aggrey Mwanri amesiti...</td>\n",
       "      <td>Biashara</td>\n",
       "      <td>mkuu wa mkoa wa tabora aggrey mwanri amesitish...</td>\n",
       "      <td>0</td>\n",
       "    </tr>\n",
       "    <tr>\n",
       "      <th>2</th>\n",
       "      <td>SW10</td>\n",
       "      <td>SERIKALI imetoa miezi sita kwa taasisi zote z...</td>\n",
       "      <td>Kitaifa</td>\n",
       "      <td>serikali imetoa miezi sita kwa taasisi zote za...</td>\n",
       "      <td>3</td>\n",
       "    </tr>\n",
       "    <tr>\n",
       "      <th>3</th>\n",
       "      <td>SW100</td>\n",
       "      <td>KAMPUNI ya mchezo wa kubahatisha ya M-bet ime...</td>\n",
       "      <td>michezo</td>\n",
       "      <td>kampuni ya mchezo wa kubahatisha ya mbet imein...</td>\n",
       "      <td>4</td>\n",
       "    </tr>\n",
       "    <tr>\n",
       "      <th>4</th>\n",
       "      <td>SW1000</td>\n",
       "      <td>WATANZANIA wamekumbushwa kusherehekea sikukuu...</td>\n",
       "      <td>Kitaifa</td>\n",
       "      <td>watanzania wamekumbushwa kusherehekea sikukuu ...</td>\n",
       "      <td>3</td>\n",
       "    </tr>\n",
       "    <tr>\n",
       "      <th>...</th>\n",
       "      <td>...</td>\n",
       "      <td>...</td>\n",
       "      <td>...</td>\n",
       "      <td>...</td>\n",
       "      <td>...</td>\n",
       "    </tr>\n",
       "    <tr>\n",
       "      <th>5146</th>\n",
       "      <td>SW993</td>\n",
       "      <td>RAIS John Magufuli ameendelea kung’ara katika...</td>\n",
       "      <td>Kitaifa</td>\n",
       "      <td>rais john magufuli ameendelea kungara katika s...</td>\n",
       "      <td>3</td>\n",
       "    </tr>\n",
       "    <tr>\n",
       "      <th>5147</th>\n",
       "      <td>SW994</td>\n",
       "      <td>KAMPENI inayohimiza watafi ti kuandika upya h...</td>\n",
       "      <td>Kitaifa</td>\n",
       "      <td>kampeni inayohimiza watafi ti kuandika upya hi...</td>\n",
       "      <td>3</td>\n",
       "    </tr>\n",
       "    <tr>\n",
       "      <th>5148</th>\n",
       "      <td>SW996</td>\n",
       "      <td>MATUKIO mapya ya malaria kwa kila watu 1,000 ...</td>\n",
       "      <td>Kitaifa</td>\n",
       "      <td>matukio mapya ya malaria kwa kila watu  katika...</td>\n",
       "      <td>3</td>\n",
       "    </tr>\n",
       "    <tr>\n",
       "      <th>5149</th>\n",
       "      <td>SW997</td>\n",
       "      <td>IMEELEZWA kuwa hakuna sheria yoyote inayokata...</td>\n",
       "      <td>Kitaifa</td>\n",
       "      <td>imeelezwa kuwa hakuna sheria yoyote inayokataz...</td>\n",
       "      <td>3</td>\n",
       "    </tr>\n",
       "    <tr>\n",
       "      <th>5150</th>\n",
       "      <td>SW999</td>\n",
       "      <td>Akizungumza mara baada ya kutiwa saini kwa ma...</td>\n",
       "      <td>Biashara</td>\n",
       "      <td>akizungumza mara baada ya kutiwa saini kwa mak...</td>\n",
       "      <td>0</td>\n",
       "    </tr>\n",
       "  </tbody>\n",
       "</table>\n",
       "<p>5151 rows × 5 columns</p>\n",
       "</div>"
      ],
      "text/plain": [
       "          id                                            content  category  \\\n",
       "0        SW0   SERIKALI imesema haitakuwa tayari kuona amani...   Kitaifa   \n",
       "1        SW1   Mkuu wa Mkoa wa Tabora, Aggrey Mwanri amesiti...  Biashara   \n",
       "2       SW10   SERIKALI imetoa miezi sita kwa taasisi zote z...   Kitaifa   \n",
       "3      SW100   KAMPUNI ya mchezo wa kubahatisha ya M-bet ime...   michezo   \n",
       "4     SW1000   WATANZANIA wamekumbushwa kusherehekea sikukuu...   Kitaifa   \n",
       "...      ...                                                ...       ...   \n",
       "5146   SW993   RAIS John Magufuli ameendelea kung’ara katika...   Kitaifa   \n",
       "5147   SW994   KAMPENI inayohimiza watafi ti kuandika upya h...   Kitaifa   \n",
       "5148   SW996   MATUKIO mapya ya malaria kwa kila watu 1,000 ...   Kitaifa   \n",
       "5149   SW997   IMEELEZWA kuwa hakuna sheria yoyote inayokata...   Kitaifa   \n",
       "5150   SW999   Akizungumza mara baada ya kutiwa saini kwa ma...  Biashara   \n",
       "\n",
       "                                          clean_content  category_encoded  \n",
       "0     serikali imesema haitakuwa tayari kuona amani ...                 3  \n",
       "1     mkuu wa mkoa wa tabora aggrey mwanri amesitish...                 0  \n",
       "2     serikali imetoa miezi sita kwa taasisi zote za...                 3  \n",
       "3     kampuni ya mchezo wa kubahatisha ya mbet imein...                 4  \n",
       "4     watanzania wamekumbushwa kusherehekea sikukuu ...                 3  \n",
       "...                                                 ...               ...  \n",
       "5146  rais john magufuli ameendelea kungara katika s...                 3  \n",
       "5147  kampeni inayohimiza watafi ti kuandika upya hi...                 3  \n",
       "5148  matukio mapya ya malaria kwa kila watu  katika...                 3  \n",
       "5149  imeelezwa kuwa hakuna sheria yoyote inayokataz...                 3  \n",
       "5150  akizungumza mara baada ya kutiwa saini kwa mak...                 0  \n",
       "\n",
       "[5151 rows x 5 columns]"
      ]
     },
     "execution_count": 19,
     "metadata": {},
     "output_type": "execute_result"
    }
   ],
   "source": [
    "train_df"
   ]
  },
  {
   "cell_type": "code",
   "execution_count": 20,
   "id": "50240a57-7ae0-4caa-b133-f1a7c578a116",
   "metadata": {},
   "outputs": [
    {
     "data": {
      "text/html": [
       "<div>\n",
       "<style scoped>\n",
       "    .dataframe tbody tr th:only-of-type {\n",
       "        vertical-align: middle;\n",
       "    }\n",
       "\n",
       "    .dataframe tbody tr th {\n",
       "        vertical-align: top;\n",
       "    }\n",
       "\n",
       "    .dataframe thead th {\n",
       "        text-align: right;\n",
       "    }\n",
       "</style>\n",
       "<table border=\"1\" class=\"dataframe\">\n",
       "  <thead>\n",
       "    <tr style=\"text-align: right;\">\n",
       "      <th></th>\n",
       "      <th>swahili_id</th>\n",
       "      <th>content</th>\n",
       "      <th>clean_content</th>\n",
       "    </tr>\n",
       "  </thead>\n",
       "  <tbody>\n",
       "    <tr>\n",
       "      <th>0</th>\n",
       "      <td>001dd47ac202d9db6624a5ff734a5e7dddafeaf2</td>\n",
       "      <td>MKUU wa Wilaya ya Bahi, Mkoani Dodoma, Mwanah...</td>\n",
       "      <td>mkuu wa wilaya ya bahi mkoani dodoma mwanahami...</td>\n",
       "    </tr>\n",
       "    <tr>\n",
       "      <th>1</th>\n",
       "      <td>0043d97f7690e9bc02f0ed8bb2b260d1d44bad92</td>\n",
       "      <td>MWISHONI mwa wiki hii, Timu ya Soka ya Taifa,...</td>\n",
       "      <td>mwishoni mwa wiki hii timu ya soka ya taifa ta...</td>\n",
       "    </tr>\n",
       "    <tr>\n",
       "      <th>2</th>\n",
       "      <td>00579c2307b5c11003d21c40c3ecff5e922c3fd8</td>\n",
       "      <td>THAMANI ya mauzo ya bidhaa za Afrika Masharik...</td>\n",
       "      <td>thamani ya mauzo ya bidhaa za afrika mashariki...</td>\n",
       "    </tr>\n",
       "    <tr>\n",
       "      <th>3</th>\n",
       "      <td>00868eeee349e286303706ef0ffd851f39708d37</td>\n",
       "      <td>MENEJA Mawasiliano na Utetezi wa asasi ya AGP...</td>\n",
       "      <td>meneja mawasiliano na utetezi wa asasi ya agpa...</td>\n",
       "    </tr>\n",
       "    <tr>\n",
       "      <th>4</th>\n",
       "      <td>00a5cb12d3058dcf2e42f277eee599992db32412</td>\n",
       "      <td>WAZIRI wa Kilimo, Japhet Hasunga amesema seri...</td>\n",
       "      <td>waziri wa kilimo japhet hasunga amesema serika...</td>\n",
       "    </tr>\n",
       "    <tr>\n",
       "      <th>...</th>\n",
       "      <td>...</td>\n",
       "      <td>...</td>\n",
       "      <td>...</td>\n",
       "    </tr>\n",
       "    <tr>\n",
       "      <th>1283</th>\n",
       "      <td>feb4b0ae88524c9cee3e50f2301d84a235f3c607</td>\n",
       "      <td>MKURUGENZI Msaidizi Msajili wa Asasi za kirai...</td>\n",
       "      <td>mkurugenzi msaidizi msajili wa asasi za kirai ...</td>\n",
       "    </tr>\n",
       "    <tr>\n",
       "      <th>1284</th>\n",
       "      <td>fecf3f14f47237e02721ed4baa4eb6c11abd239f</td>\n",
       "      <td>Kilomoni alisema jana kesho atazungumzia sual...</td>\n",
       "      <td>kilomoni alisema jana kesho atazungumzia suala...</td>\n",
       "    </tr>\n",
       "    <tr>\n",
       "      <th>1285</th>\n",
       "      <td>feed09e13586d12139cd59bc20996a4d29706606</td>\n",
       "      <td>TIMU ya taifa ya soka ya Tanzania Bara, Kilim...</td>\n",
       "      <td>timu ya taifa ya soka ya tanzania bara kiliman...</td>\n",
       "    </tr>\n",
       "    <tr>\n",
       "      <th>1286</th>\n",
       "      <td>ffc0bca6fde8fa0cce1ac3a7b0d746603d441bf8</td>\n",
       "      <td>YANGA imetozwa faini ya Sh 3,500,000 kutokana...</td>\n",
       "      <td>yanga imetozwa faini ya sh  kutokana na makosa...</td>\n",
       "    </tr>\n",
       "    <tr>\n",
       "      <th>1287</th>\n",
       "      <td>fffdd6f356ed5b8dba21717f60c53f6520e650ab</td>\n",
       "      <td>MAHAKAMA Kuu Kanda ya Dar es Salaam imekubali...</td>\n",
       "      <td>mahakama kuu kanda ya dar es salaam imekubalia...</td>\n",
       "    </tr>\n",
       "  </tbody>\n",
       "</table>\n",
       "<p>1288 rows × 3 columns</p>\n",
       "</div>"
      ],
      "text/plain": [
       "                                    swahili_id  \\\n",
       "0     001dd47ac202d9db6624a5ff734a5e7dddafeaf2   \n",
       "1     0043d97f7690e9bc02f0ed8bb2b260d1d44bad92   \n",
       "2     00579c2307b5c11003d21c40c3ecff5e922c3fd8   \n",
       "3     00868eeee349e286303706ef0ffd851f39708d37   \n",
       "4     00a5cb12d3058dcf2e42f277eee599992db32412   \n",
       "...                                        ...   \n",
       "1283  feb4b0ae88524c9cee3e50f2301d84a235f3c607   \n",
       "1284  fecf3f14f47237e02721ed4baa4eb6c11abd239f   \n",
       "1285  feed09e13586d12139cd59bc20996a4d29706606   \n",
       "1286  ffc0bca6fde8fa0cce1ac3a7b0d746603d441bf8   \n",
       "1287  fffdd6f356ed5b8dba21717f60c53f6520e650ab   \n",
       "\n",
       "                                                content  \\\n",
       "0      MKUU wa Wilaya ya Bahi, Mkoani Dodoma, Mwanah...   \n",
       "1      MWISHONI mwa wiki hii, Timu ya Soka ya Taifa,...   \n",
       "2      THAMANI ya mauzo ya bidhaa za Afrika Masharik...   \n",
       "3      MENEJA Mawasiliano na Utetezi wa asasi ya AGP...   \n",
       "4      WAZIRI wa Kilimo, Japhet Hasunga amesema seri...   \n",
       "...                                                 ...   \n",
       "1283   MKURUGENZI Msaidizi Msajili wa Asasi za kirai...   \n",
       "1284   Kilomoni alisema jana kesho atazungumzia sual...   \n",
       "1285   TIMU ya taifa ya soka ya Tanzania Bara, Kilim...   \n",
       "1286   YANGA imetozwa faini ya Sh 3,500,000 kutokana...   \n",
       "1287   MAHAKAMA Kuu Kanda ya Dar es Salaam imekubali...   \n",
       "\n",
       "                                          clean_content  \n",
       "0     mkuu wa wilaya ya bahi mkoani dodoma mwanahami...  \n",
       "1     mwishoni mwa wiki hii timu ya soka ya taifa ta...  \n",
       "2     thamani ya mauzo ya bidhaa za afrika mashariki...  \n",
       "3     meneja mawasiliano na utetezi wa asasi ya agpa...  \n",
       "4     waziri wa kilimo japhet hasunga amesema serika...  \n",
       "...                                                 ...  \n",
       "1283  mkurugenzi msaidizi msajili wa asasi za kirai ...  \n",
       "1284  kilomoni alisema jana kesho atazungumzia suala...  \n",
       "1285  timu ya taifa ya soka ya tanzania bara kiliman...  \n",
       "1286  yanga imetozwa faini ya sh  kutokana na makosa...  \n",
       "1287  mahakama kuu kanda ya dar es salaam imekubalia...  \n",
       "\n",
       "[1288 rows x 3 columns]"
      ]
     },
     "execution_count": 20,
     "metadata": {},
     "output_type": "execute_result"
    }
   ],
   "source": [
    "test_df"
   ]
  },
  {
   "cell_type": "markdown",
   "id": "21004396-17d9-4812-a69a-8add5261bfc9",
   "metadata": {},
   "source": [
    "### Tokenization and Padding\n",
    "\n",
    "In this section, we preprocess the text data using tokenization and padding to prepare it for input into deep learning models.\n",
    "\n",
    "1. **Tokenization**  \n",
    "   - We define a `Tokenizer` with a maximum vocabulary size of `10,000` words and an out-of-vocabulary (OOV) token `<OOV>`.  \n",
    "   - The tokenizer is then fitted on the `clean_content` column of `train_df`, which contains preprocessed Swahili news articles.  \n",
    "   - The text data is converted into sequences of integers, where each unique word is assigned a numerical index.\n",
    "\n",
    "2. **Padding Sequences**  \n",
    "   - Since neural networks require inputs of uniform length, we use `pad_sequences` to ensure all sequences are of length `200`.  \n",
    "   - Shorter sequences are padded with zeros at the end (`post` padding).\n",
    "\n",
    "3. **Label Encoding**  \n",
    "   - The categorical labels in `train_df[\"category_encoded\"]` are converted into one-hot encoded vectors using `tf.keras.utils.to_categorical()`, ensuring that each label is represented as a binary vector.\n",
    "\n",
    "4. **Splitting Data**  \n",
    "   - The processed data (`X_padded` and `y`) is split into training and validation sets using `train_test_split()`.  \n",
    "   - We use an 80-20 split (`test_size=0.2`), ensuring class distribution is maintained (`stratify=y`).  \n",
    "   - A fixed `random_state=42` ensures reproducibility.\n",
    "\n",
    "This preprocessing step is crucial for feeding structured numerical data into deep learning models.\n"
   ]
  },
  {
   "cell_type": "code",
   "execution_count": 5,
   "id": "35c710ea-42c5-45c4-ba7e-0c3039b069e4",
   "metadata": {},
   "outputs": [],
   "source": [
    "# Tokenization and padding\n",
    "max_vocab_size = 10000\n",
    "max_sequence_length = 200\n",
    "tokenizer = Tokenizer(num_words=max_vocab_size, oov_token=\"<OOV>\")\n",
    "tokenizer.fit_on_texts(train_df[\"clean_content\"])\n",
    "\n",
    "X = tokenizer.texts_to_sequences(train_df[\"clean_content\"])\n",
    "X_padded = pad_sequences(X, maxlen=max_sequence_length, padding=\"post\")\n",
    "y = tf.keras.utils.to_categorical(train_df[\"category_encoded\"], num_classes)\n",
    "\n",
    "X_train, X_val, y_train, y_val = train_test_split(X_padded, y, test_size=0.2, stratify=y, random_state=42)"
   ]
  },
  {
   "cell_type": "markdown",
   "id": "91cbcbdd-8fd5-49ab-b430-538c23af0df6",
   "metadata": {},
   "source": [
    "### Defining LSTM and CNN Models\n",
    "\n",
    "This section defines two deep learning models: an LSTM-based model and a CNN-based model for Swahili news classification.\n",
    "\n",
    "1. **LSTM Model (`build_lstm`)**  \n",
    "   - The model starts with an **Embedding layer** that converts tokenized words into dense vector representations of size `128`.  \n",
    "   - A **LSTM (Long Short-Term Memory) layer** with 64 units processes the sequential data, capturing long-range dependencies in text.  \n",
    "   - A **Dense output layer** with a softmax activation function is used to classify the text into `num_classes` categories.  \n",
    "   - The model is compiled with the Adam optimizer and categorical cross-entropy loss.\n",
    "\n",
    "2. **CNN Model (`build_cnn`)**  \n",
    "   - The CNN model also begins with an **Embedding layer** to represent words as dense vectors.  \n",
    "   - A **1D Convolutional layer** with 64 filters and a kernel size of 5 is used to extract local features from text.  \n",
    "   - A **Global Max Pooling layer** reduces dimensionality by selecting the most important features.  \n",
    "   - A **Dense output layer** with a softmax activation function classifies the text into `num_classes`.  \n",
    "   - The model is compiled similarly using the Adam optimizer and categorical cross-entropy loss.\n",
    "\n",
    "Both models aim to classify Swahili news articles into their respective categories based on textual content.\n"
   ]
  },
  {
   "cell_type": "code",
   "execution_count": 6,
   "id": "abbe5a88-d6ab-4c30-a88c-4611a5b1ad3b",
   "metadata": {},
   "outputs": [],
   "source": [
    "# Define models\n",
    "def build_lstm():\n",
    "    model = Sequential([\n",
    "        Embedding(input_dim=max_vocab_size, output_dim=128, input_length=max_sequence_length),\n",
    "        LSTM(64, return_sequences=False),\n",
    "        Dense(num_classes, activation='softmax')\n",
    "    ])\n",
    "    model.compile(optimizer=Adam(), loss='categorical_crossentropy', metrics=['accuracy'])\n",
    "    return model\n",
    "\n",
    "def build_cnn():\n",
    "    model = Sequential([\n",
    "        Embedding(input_dim=max_vocab_size, output_dim=128, input_length=max_sequence_length),\n",
    "        Conv1D(64, 5, activation='relu'),\n",
    "        GlobalMaxPooling1D(),\n",
    "        Dense(num_classes, activation='softmax')\n",
    "    ])\n",
    "    model.compile(optimizer=Adam(), loss='categorical_crossentropy', metrics=['accuracy'])\n",
    "    return model"
   ]
  },
  {
   "cell_type": "markdown",
   "id": "43c78f5f-be9b-4f05-ac8d-31bd90cf788a",
   "metadata": {},
   "source": [
    "# Train models"
   ]
  },
  {
   "cell_type": "code",
   "execution_count": 7,
   "id": "562e42d9-a674-40e4-9dec-3e52b76f6aff",
   "metadata": {},
   "outputs": [
    {
     "name": "stdout",
     "output_type": "stream",
     "text": [
      "Epoch 1/7\n"
     ]
    },
    {
     "name": "stderr",
     "output_type": "stream",
     "text": [
      "C:\\Users\\shash\\AppData\\Local\\Programs\\Python\\Python312\\Lib\\site-packages\\keras\\src\\layers\\core\\embedding.py:90: UserWarning: Argument `input_length` is deprecated. Just remove it.\n",
      "  warnings.warn(\n"
     ]
    },
    {
     "name": "stdout",
     "output_type": "stream",
     "text": [
      "\u001b[1m129/129\u001b[0m \u001b[32m━━━━━━━━━━━━━━━━━━━━\u001b[0m\u001b[37m\u001b[0m \u001b[1m7s\u001b[0m 41ms/step - accuracy: 0.4212 - loss: 1.2649 - val_accuracy: 0.4559 - val_loss: 1.0880\n",
      "Epoch 2/7\n",
      "\u001b[1m129/129\u001b[0m \u001b[32m━━━━━━━━━━━━━━━━━━━━\u001b[0m\u001b[37m\u001b[0m \u001b[1m5s\u001b[0m 39ms/step - accuracy: 0.6309 - loss: 0.8922 - val_accuracy: 0.4384 - val_loss: 1.1133\n",
      "Epoch 3/7\n",
      "\u001b[1m129/129\u001b[0m \u001b[32m━━━━━━━━━━━━━━━━━━━━\u001b[0m\u001b[37m\u001b[0m \u001b[1m5s\u001b[0m 39ms/step - accuracy: 0.5689 - loss: 0.9971 - val_accuracy: 0.6372 - val_loss: 0.9279\n",
      "Epoch 4/7\n",
      "\u001b[1m129/129\u001b[0m \u001b[32m━━━━━━━━━━━━━━━━━━━━\u001b[0m\u001b[37m\u001b[0m \u001b[1m5s\u001b[0m 38ms/step - accuracy: 0.7530 - loss: 0.6919 - val_accuracy: 0.7449 - val_loss: 0.7320\n",
      "Epoch 5/7\n",
      "\u001b[1m129/129\u001b[0m \u001b[32m━━━━━━━━━━━━━━━━━━━━\u001b[0m\u001b[37m\u001b[0m \u001b[1m5s\u001b[0m 38ms/step - accuracy: 0.8530 - loss: 0.4652 - val_accuracy: 0.7449 - val_loss: 0.6863\n",
      "Epoch 6/7\n",
      "\u001b[1m129/129\u001b[0m \u001b[32m━━━━━━━━━━━━━━━━━━━━\u001b[0m\u001b[37m\u001b[0m \u001b[1m5s\u001b[0m 38ms/step - accuracy: 0.8581 - loss: 0.4130 - val_accuracy: 0.7517 - val_loss: 0.7850\n",
      "Epoch 7/7\n",
      "\u001b[1m129/129\u001b[0m \u001b[32m━━━━━━━━━━━━━━━━━━━━\u001b[0m\u001b[37m\u001b[0m \u001b[1m5s\u001b[0m 38ms/step - accuracy: 0.9045 - loss: 0.3091 - val_accuracy: 0.7371 - val_loss: 0.8624\n"
     ]
    },
    {
     "data": {
      "text/plain": [
       "<keras.src.callbacks.history.History at 0x1c2104bcb90>"
      ]
     },
     "execution_count": 7,
     "metadata": {},
     "output_type": "execute_result"
    }
   ],
   "source": [
    "\n",
    "lstm_model = build_lstm()\n",
    "lstm_model.fit(X_train, y_train, validation_data=(X_val, y_val), epochs=7, batch_size=32)\n"
   ]
  },
  {
   "cell_type": "code",
   "execution_count": 8,
   "id": "440e3bdc-8d47-449c-a851-bac051563b73",
   "metadata": {},
   "outputs": [
    {
     "name": "stdout",
     "output_type": "stream",
     "text": [
      "Epoch 1/5\n",
      "\u001b[1m129/129\u001b[0m \u001b[32m━━━━━━━━━━━━━━━━━━━━\u001b[0m\u001b[37m\u001b[0m \u001b[1m2s\u001b[0m 8ms/step - accuracy: 0.4906 - loss: 1.2066 - val_accuracy: 0.6974 - val_loss: 0.6480\n",
      "Epoch 2/5\n",
      "\u001b[1m129/129\u001b[0m \u001b[32m━━━━━━━━━━━━━━━━━━━━\u001b[0m\u001b[37m\u001b[0m \u001b[1m1s\u001b[0m 8ms/step - accuracy: 0.7942 - loss: 0.5293 - val_accuracy: 0.8225 - val_loss: 0.4771\n",
      "Epoch 3/5\n",
      "\u001b[1m129/129\u001b[0m \u001b[32m━━━━━━━━━━━━━━━━━━━━\u001b[0m\u001b[37m\u001b[0m \u001b[1m1s\u001b[0m 8ms/step - accuracy: 0.8926 - loss: 0.3396 - val_accuracy: 0.8371 - val_loss: 0.4355\n",
      "Epoch 4/5\n",
      "\u001b[1m129/129\u001b[0m \u001b[32m━━━━━━━━━━━━━━━━━━━━\u001b[0m\u001b[37m\u001b[0m \u001b[1m1s\u001b[0m 8ms/step - accuracy: 0.9479 - loss: 0.2006 - val_accuracy: 0.8409 - val_loss: 0.4267\n",
      "Epoch 5/5\n",
      "\u001b[1m129/129\u001b[0m \u001b[32m━━━━━━━━━━━━━━━━━━━━\u001b[0m\u001b[37m\u001b[0m \u001b[1m1s\u001b[0m 9ms/step - accuracy: 0.9764 - loss: 0.1067 - val_accuracy: 0.8429 - val_loss: 0.4329\n"
     ]
    },
    {
     "data": {
      "text/plain": [
       "<keras.src.callbacks.history.History at 0x1c212d43560>"
      ]
     },
     "execution_count": 8,
     "metadata": {},
     "output_type": "execute_result"
    }
   ],
   "source": [
    "cnn_model = build_cnn()\n",
    "cnn_model.fit(X_train, y_train, validation_data=(X_val, y_val), epochs=5, batch_size=32)"
   ]
  },
  {
   "cell_type": "code",
   "execution_count": 9,
   "id": "bc8970bd-cb86-480e-8470-5c97c25c30c8",
   "metadata": {},
   "outputs": [
    {
     "name": "stdout",
     "output_type": "stream",
     "text": [
      "\u001b[1m33/33\u001b[0m \u001b[32m━━━━━━━━━━━━━━━━━━━━\u001b[0m\u001b[37m\u001b[0m \u001b[1m1s\u001b[0m 13ms/step\n",
      "\u001b[1m33/33\u001b[0m \u001b[32m━━━━━━━━━━━━━━━━━━━━\u001b[0m\u001b[37m\u001b[0m \u001b[1m0s\u001b[0m 4ms/step\n",
      "LSTM Log Loss: 0.8623548098699981\n",
      "CNN Log Loss: 0.43294506302826746\n"
     ]
    }
   ],
   "source": [
    "# Evaluate models\n",
    "y_val_pred_lstm = lstm_model.predict(X_val)\n",
    "y_val_pred_cnn = cnn_model.predict(X_val)\n",
    "\n",
    "\n",
    "print(\"LSTM Log Loss:\", log_loss(y_val, y_val_pred_lstm))\n",
    "print(\"CNN Log Loss:\", log_loss(y_val, y_val_pred_cnn))\n"
   ]
  },
  {
   "cell_type": "code",
   "execution_count": 10,
   "id": "a2d2beb3-99ca-41e1-be71-ce9508acc361",
   "metadata": {},
   "outputs": [
    {
     "data": {
      "image/png": "[encoded data removed]",
      "text/plain": [
       "<Figure size 1200x500 with 4 Axes>"
      ]
     },
     "metadata": {},
     "output_type": "display_data"
    }
   ],
   "source": [
    "from sklearn.metrics import confusion_matrix\n",
    "import seaborn as sns\n",
    "import matplotlib.pyplot as plt\n",
    "\n",
    "# Convert predicted probabilities to class labels\n",
    "y_val_true = y_val.argmax(axis=1)  # Convert one-hot encoded labels to integers\n",
    "y_val_pred_lstm_labels = y_val_pred_lstm.argmax(axis=1)\n",
    "y_val_pred_cnn_labels = y_val_pred_cnn.argmax(axis=1)\n",
    "\n",
    "# Compute confusion matrices\n",
    "conf_matrix_lstm = confusion_matrix(y_val_true, y_val_pred_lstm_labels)\n",
    "conf_matrix_cnn = confusion_matrix(y_val_true, y_val_pred_cnn_labels)\n",
    "\n",
    "# Plot confusion matrices\n",
    "fig, axes = plt.subplots(1, 2, figsize=(12, 5))\n",
    "sns.heatmap(conf_matrix_lstm, annot=True, fmt=\"d\", cmap=\"Blues\", ax=axes[0])\n",
    "axes[0].set_title(\"LSTM Confusion Matrix\")\n",
    "axes[0].set_xlabel(\"Predicted Label\")\n",
    "axes[0].set_ylabel(\"True Label\")\n",
    "\n",
    "sns.heatmap(conf_matrix_cnn, annot=True, fmt=\"d\", cmap=\"Greens\", ax=axes[1])\n",
    "axes[1].set_title(\"CNN Confusion Matrix\")\n",
    "axes[1].set_xlabel(\"Predicted Label\")\n",
    "axes[1].set_ylabel(\"True Label\")\n",
    "\n",
    "plt.tight_layout()\n",
    "plt.show()"
   ]
  },
  {
   "cell_type": "markdown",
   "id": "cde2c4a0-64e4-455b-9dfc-c7f3aaeb059e",
   "metadata": {},
   "source": [
    "## Note:\n",
    "One thing to note here is that the test dataset provided doesnt have the final classification labels, hence it renders the dataset useless as we dont cant test the performance on it without the true labels."
   ]
  },
  {
   "cell_type": "code",
   "execution_count": null,
   "id": "bbc6b472-8907-43e8-a464-3e7f8f094ff0",
   "metadata": {},
   "outputs": [],
   "source": []
  }
 ],
 "metadata": {
  "kernelspec": {
   "display_name": "Python 3 (ipykernel)",
   "language": "python",
   "name": "python3"
  },
  "language_info": {
   "codemirror_mode": {
    "name": "ipython",
    "version": 3
   },
   "file_extension": ".py",
   "mimetype": "text/x-python",
   "name": "python",
   "nbconvert_exporter": "python",
   "pygments_lexer": "ipython3",
   "version": "3.12.4"
  }
 },
 "nbformat": 4,
 "nbformat_minor": 5
}
