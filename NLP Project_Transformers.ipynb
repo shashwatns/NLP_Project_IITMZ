{
 "cells": [
  {
   "cell_type": "markdown",
   "id": "d3915e2a-d73b-42fd-a5c1-d7da4d3ff16f",
   "metadata": {},
   "source": [
    "# Swahili News Classification using Transformers\n",
    "\n",
    "This Jupyter notebook trains a Transformer-based model to classify Swahili news articles into 5 categories.\n",
    "\n",
    "### Steps Covered:\n",
    "1. Load and preprocess the dataset\n",
    "2. Tokenize the text using a pre-trained model\n",
    "3. Train a `BERT`-based classifier\n",
    "4. Evaluate and make predictions\n",
    "5. Generate submission file"
   ]
  },
  {
   "cell_type": "code",
   "execution_count": 1,
   "id": "5a380693-b940-48cb-8843-c1c7a021ffd9",
   "metadata": {},
   "outputs": [],
   "source": [
    "import pandas as pd\n",
    "import torch\n",
    "import torch.nn as nn\n",
    "import torch.optim as optim\n",
    "from torch.utils.data import Dataset, DataLoader\n",
    "from transformers import AutoTokenizer, AutoModelForSequenceClassification\n",
    "from sklearn.preprocessing import LabelBinarizer\n",
    "from sklearn.model_selection import train_test_split\n",
    "from tqdm import tqdm\n",
    "\n",
    "# Load Data\n",
    "train_df = pd.read_csv(r\"C:\\IIT\\NLP Project\\Train.csv\")\n",
    "test_df = pd.read_csv(r\"C:\\IIT\\NLP Project\\Test.csv\")\n",
    "\n",
    "# Label Encoding\n",
    "#LabelBinarizer converts the categorical labels (Kitaifa, Kimataifa, etc.) into one-hot encoded vectors.\n",
    "#The transformed labels (y_train) will be used for model training.\n",
    "label_binarizer = LabelBinarizer()\n",
    "y_train = label_binarizer.fit_transform(train_df['category'])\n",
    "\n"
   ]
  },
  {
   "cell_type": "markdown",
   "id": "6b76accf-4e99-4756-9040-c5a369305cea",
   "metadata": {},
   "source": [
    "# Tokenizer\n",
    "1.Loads the pre-trained tokenizer for Swahili news classification.\n",
    "\n",
    "2.This tokenizer splits text into tokens that the model understands.\n",
    "\n",
    "# Model\n",
    "\n",
    "1. Loads a pre-trained BERT model for sequence classification.\n",
    "2. num_labels=5 ensures the model has 5 output classes.\n",
    "3. ignore_mismatched_sizes=True ensures that any mismatched layers (e.g., different output layer sizes) are adjusted automatically.\n",
    "4. Moves the model to GPU (if available) for faster training."
   ]
  },
  {
   "cell_type": "code",
   "execution_count": 2,
   "id": "2ff2e0ef-e9ed-4983-9f97-6834b4ca42bd",
   "metadata": {},
   "outputs": [
    {
     "name": "stderr",
     "output_type": "stream",
     "text": [
      "Some weights of BertForSequenceClassification were not initialized from the model checkpoint at flax-community/bert-swahili-news-classification and are newly initialized because the shapes did not match:\n",
      "- classifier.weight: found shape torch.Size([6, 768]) in the checkpoint and torch.Size([5, 768]) in the model instantiated\n",
      "- classifier.bias: found shape torch.Size([6]) in the checkpoint and torch.Size([5]) in the model instantiated\n",
      "You should probably TRAIN this model on a down-stream task to be able to use it for predictions and inference.\n"
     ]
    }
   ],
   "source": [
    "# Tokenizer & Model\n",
    "#Loads the pre-trained tokenizer for Swahili news classification.\n",
    "#This tokenizer splits text into tokens that the model understands.\n",
    "\n",
    "from transformers import AutoModelForSequenceClassification\n",
    "MODEL_NAME = \"flax-community/bert-swahili-news-classification\"\n",
    "tokenizer = AutoTokenizer.from_pretrained(MODEL_NAME)\n",
    "model = AutoModelForSequenceClassification.from_pretrained(\"flax-community/bert-swahili-news-classification\",num_labels=5,ignore_mismatched_sizes=True).to(torch.device(\"cuda\" if torch.cuda.is_available() else \"cpu\"))\n",
    "\n",
    "\n",
    "# model = AutoModelForSequenceClassification.from_pretrained(MODEL_NAME, num_labels=len(label_binarizer.classes_)).to(torch.device(\"cuda\" if torch.cuda.is_available() else \"cpu\"))\n",
    "\n",
    "\n",
    "\n"
   ]
  },
  {
   "cell_type": "markdown",
   "id": "35a7d0ef-41de-4ef0-9bc8-47725521a8da",
   "metadata": {},
   "source": [
    "## Define a PyTorch Dataset class to:\n",
    "\n",
    "1.Tokenize and prepare input text.\n",
    "\n",
    "2.Convert labels to PyTorch tensors.\n",
    "\n",
    "3.Support batching with DataLoader."
   ]
  },
  {
   "cell_type": "code",
   "execution_count": 3,
   "id": "d2e435dd-f7e7-4bdf-a1c7-b44b5724305c",
   "metadata": {},
   "outputs": [],
   "source": [
    "class NewsDataset(Dataset):\n",
    "    def __init__(self, texts, labels=None, tokenizer=None, max_length=256):\n",
    "        self.texts = texts\n",
    "        self.labels = labels\n",
    "        self.tokenizer = tokenizer\n",
    "        self.max_length = max_length\n",
    "    \n",
    "    def __len__(self):\n",
    "        return len(self.texts)\n",
    "    \n",
    "    def __getitem__(self, idx):\n",
    "        text = self.texts[idx]\n",
    "        inputs = self.tokenizer(text, padding='max_length', truncation=True, max_length=self.max_length, return_tensors=\"pt\")\n",
    "        \n",
    "        item = {key: val.squeeze(0) for key, val in inputs.items()}\n",
    "        \n",
    "        if self.labels is not None:\n",
    "            item['labels'] = torch.tensor(self.labels[idx], dtype=torch.float)\n",
    "        \n",
    "        return item"
   ]
  },
  {
   "cell_type": "markdown",
   "id": "8a6894ec-09cf-44e8-8f9f-eb08a7bcc326",
   "metadata": {},
   "source": [
    "## Train-Test split\n",
    "1. Splits the dataset into 90% training and 10% validation.\n",
    "2. Converts text data into NewsDataset objects.\n",
    "3. Uses DataLoader to create batches for efficient training"
   ]
  },
  {
   "cell_type": "code",
   "execution_count": 4,
   "id": "12eed7e9-6f28-4dad-affb-d83fa416fd6e",
   "metadata": {},
   "outputs": [],
   "source": [
    "# Split train/val\n",
    "txt_train, txt_val, y_train, y_val = train_test_split(train_df['content'], y_train, test_size=0.1, random_state=42)\n",
    "\n",
    "train_dataset = NewsDataset(txt_train.tolist(), y_train, tokenizer)\n",
    "val_dataset = NewsDataset(txt_val.tolist(), y_val, tokenizer)\n",
    "test_dataset = NewsDataset(test_df['content'].tolist(), tokenizer=tokenizer)\n",
    "\n",
    "t_train_loader = DataLoader(train_dataset, batch_size=16, shuffle=True)\n",
    "t_val_loader = DataLoader(val_dataset, batch_size=16)\n",
    "t_test_loader = DataLoader(test_dataset, batch_size=16)\n",
    "\n",
    "\n"
   ]
  },
  {
   "cell_type": "markdown",
   "id": "26ff26a4-b7ac-4c5b-b421-f619ada61816",
   "metadata": {},
   "source": [
    "# Training setup\n",
    "1. Uses CrossEntropyLoss since it's a multi-class classification problem.\n",
    "2. AdamW optimizer is used with a learning rate of 2e-5."
   ]
  },
  {
   "cell_type": "code",
   "execution_count": 5,
   "id": "5dd686d7-acc9-4477-a74d-bb1886ade898",
   "metadata": {},
   "outputs": [
    {
     "name": "stderr",
     "output_type": "stream",
     "text": [
      "100%|████████████████████████████████████████████████████████████████████████████████| 290/290 [40:43<00:00,  8.43s/it]\n"
     ]
    },
    {
     "name": "stdout",
     "output_type": "stream",
     "text": [
      "Epoch 1, Loss: 0.2774411446832377\n"
     ]
    },
    {
     "name": "stderr",
     "output_type": "stream",
     "text": [
      "100%|████████████████████████████████████████████████████████████████████████████████| 290/290 [41:50<00:00,  8.66s/it]\n"
     ]
    },
    {
     "name": "stdout",
     "output_type": "stream",
     "text": [
      "Epoch 2, Loss: 0.15621625519325508\n"
     ]
    },
    {
     "name": "stderr",
     "output_type": "stream",
     "text": [
      "100%|████████████████████████████████████████████████████████████████████████████████| 290/290 [41:40<00:00,  8.62s/it]"
     ]
    },
    {
     "name": "stdout",
     "output_type": "stream",
     "text": [
      "Epoch 3, Loss: 0.10282581504434347\n"
     ]
    },
    {
     "name": "stderr",
     "output_type": "stream",
     "text": [
      "\n"
     ]
    }
   ],
   "source": [
    "# Training Setup\n",
    "criterion = nn.CrossEntropyLoss()\n",
    "optimizer = optim.AdamW(model.parameters(), lr=2e-5)\n",
    "\n",
    "def train_model(model, train_loader, val_loader, epochs=3):\n",
    "    model.train()\n",
    "    for epoch in range(epochs):\n",
    "        total_loss = 0\n",
    "        for batch in tqdm(train_loader):\n",
    "            optimizer.zero_grad()\n",
    "            input_ids = batch['input_ids'].to(model.device)\n",
    "            attention_mask = batch['attention_mask'].to(model.device)\n",
    "            labels = batch['labels'].to(model.device)\n",
    "            \n",
    "            outputs = model(input_ids=input_ids, attention_mask=attention_mask).logits\n",
    "            loss = criterion(outputs, labels)\n",
    "            loss.backward()\n",
    "            optimizer.step()\n",
    "            \n",
    "            total_loss += loss.item()\n",
    "        print(f\"Epoch {epoch+1}, Loss: {total_loss / len(train_loader)}\")\n",
    "    return model\n",
    "\n",
    "model = train_model(model, t_train_loader, t_val_loader)\n",
    "\n"
   ]
  },
  {
   "cell_type": "code",
   "execution_count": 6,
   "id": "9f839b7a-9f55-4d09-9df9-9b656e188736",
   "metadata": {},
   "outputs": [
    {
     "name": "stdout",
     "output_type": "stream",
     "text": [
      "Submission file saved as submission.csv\n"
     ]
    }
   ],
   "source": [
    "# Prediction\n",
    "model.eval()\n",
    "all_preds = []\n",
    "with torch.no_grad():\n",
    "    for batch in t_test_loader:\n",
    "        input_ids = batch['input_ids'].to(model.device)\n",
    "        attention_mask = batch['attention_mask'].to(model.device)\n",
    "        outputs = model(input_ids=input_ids, attention_mask=attention_mask).logits\n",
    "        all_preds.append(outputs.cpu().numpy())\n",
    "\n",
    "import numpy as np\n",
    "all_preds = np.vstack(all_preds)\n",
    "\n",
    "submission_df = pd.DataFrame(all_preds, columns=label_binarizer.classes_)\n",
    "submission_df.insert(0, 'test_id', test_df['swahili_id'])\n",
    "submission_df.to_csv(\"submission.csv\", index=False)\n",
    "\n",
    "print(\"Submission file saved as submission.csv\")"
   ]
  },
  {
   "cell_type": "code",
   "execution_count": 7,
   "id": "a972548f-4e3d-4df9-a53e-89e66ea76204",
   "metadata": {},
   "outputs": [
    {
     "name": "stdout",
     "output_type": "stream",
     "text": [
      "                                       test_id  Biashara  Burudani  Kimataifa  \\\n",
      "0     001dd47ac202d9db6624a5ff734a5e7dddafeaf2 -2.014363 -2.006317  -0.922799   \n",
      "1     0043d97f7690e9bc02f0ed8bb2b260d1d44bad92 -2.099497 -2.399172  -2.583413   \n",
      "2     00579c2307b5c11003d21c40c3ecff5e922c3fd8  4.268249 -2.522824  -1.619719   \n",
      "3     00868eeee349e286303706ef0ffd851f39708d37 -2.292792 -1.737239  -0.199570   \n",
      "4     00a5cb12d3058dcf2e42f277eee599992db32412  1.303291 -2.505981  -2.005262   \n",
      "...                                        ...       ...       ...        ...   \n",
      "1283  feb4b0ae88524c9cee3e50f2301d84a235f3c607 -2.349457 -1.824328  -0.535890   \n",
      "1284  fecf3f14f47237e02721ed4baa4eb6c11abd239f -1.668876 -1.991906  -2.428705   \n",
      "1285  feed09e13586d12139cd59bc20996a4d29706606 -2.326944 -2.305283  -2.496495   \n",
      "1286  ffc0bca6fde8fa0cce1ac3a7b0d746603d441bf8 -1.950165 -2.357055  -2.549608   \n",
      "1287  fffdd6f356ed5b8dba21717f60c53f6520e650ab -1.236806 -1.699160  -0.286405   \n",
      "\n",
      "       Kitaifa   michezo  \n",
      "0     6.080146 -0.727686  \n",
      "1     1.389802  5.603991  \n",
      "2     1.235518 -2.279290  \n",
      "3     5.778695 -1.081415  \n",
      "4     4.625099 -1.128723  \n",
      "...        ...       ...  \n",
      "1283  6.066816 -0.996937  \n",
      "1284  0.331719  5.831037  \n",
      "1285  1.469572  5.680864  \n",
      "1286  1.815825  5.134462  \n",
      "1287  5.662851 -1.732633  \n",
      "\n",
      "[1288 rows x 6 columns]\n"
     ]
    }
   ],
   "source": [
    "submission_df=pd.read_csv(r\"C:\\Users\\shash\\submission.csv\")\n",
    "print(submission_df)"
   ]
  },
  {
   "cell_type": "code",
   "execution_count": 8,
   "id": "31fcde00-9fcd-4751-a938-c12edecbcfaf",
   "metadata": {},
   "outputs": [
    {
     "data": {
      "image/png": "[encoded data removed]",
      "text/plain": [
       "<Figure size 600x500 with 2 Axes>"
      ]
     },
     "metadata": {},
     "output_type": "display_data"
    }
   ],
   "source": [
    "import torch\n",
    "import numpy as np\n",
    "import seaborn as sns\n",
    "import matplotlib.pyplot as plt\n",
    "from sklearn.metrics import confusion_matrix\n",
    "\n",
    "# Extract necessary components from the notebook's structure\n",
    "device = torch.device(\"cuda\" if torch.cuda.is_available() else \"cpu\")\n",
    "\n",
    "# Function to compute validation predictions and generate confusion matrix\n",
    "def evaluate_model(model, val_loader):\n",
    "    model.eval()  # Set model to evaluation mode\n",
    "    all_preds, all_labels = [], []\n",
    "\n",
    "    with torch.no_grad():\n",
    "        for batch in val_loader:\n",
    "            input_ids = batch['input_ids'].to(device)\n",
    "            attention_mask = batch['attention_mask'].to(device)\n",
    "            labels = batch['labels'].cpu().numpy()  # True labels\n",
    "\n",
    "            outputs = model(input_ids=input_ids, attention_mask=attention_mask).logits\n",
    "            preds = torch.argmax(outputs, dim=1).cpu().numpy()  # Predicted labels\n",
    "\n",
    "            all_preds.extend(preds)\n",
    "            all_labels.extend(np.argmax(labels, axis=1))  # Convert one-hot to label indices\n",
    "\n",
    "    # Compute confusion matrix\n",
    "    cm = confusion_matrix(all_labels, all_preds)\n",
    "\n",
    "    # Plot confusion matrix\n",
    "    plt.figure(figsize=(6, 5))\n",
    "    sns.heatmap(cm, annot=True, fmt=\"d\", cmap=\"Blues\", xticklabels=[\"Kitaifa\", \"Kimataifa\", \"Biashara\", \"Michezo\", \"Burudani\"], \n",
    "                yticklabels=[\"Kitaifa\", \"Kimataifa\", \"Biashara\", \"Michezo\", \"Burudani\"])\n",
    "    plt.xlabel(\"Predicted Label\")\n",
    "    plt.ylabel(\"True Label\")\n",
    "    plt.title(\"Confusion Matrix - Validation Set\")\n",
    "    plt.show()\n",
    "\n",
    "# Run the function to generate the confusion matrix\n",
    "evaluate_model(model, t_val_loader)\n"
   ]
  },
  {
   "cell_type": "code",
   "execution_count": 9,
   "id": "43c690f1-ff8b-4c71-805e-608578695ff4",
   "metadata": {},
   "outputs": [
    {
     "name": "stdout",
     "output_type": "stream",
     "text": [
      "Log Loss on Validation Set: 0.2275\n"
     ]
    },
    {
     "name": "stderr",
     "output_type": "stream",
     "text": [
      "C:\\Users\\shash\\AppData\\Local\\Programs\\Python\\Python312\\Lib\\site-packages\\sklearn\\metrics\\_classification.py:2956: UserWarning: The y_pred values do not sum to one. Make sure to pass probabilities.\n",
      "  warnings.warn(\n"
     ]
    }
   ],
   "source": [
    "from sklearn.metrics import log_loss\n",
    "\n",
    "def calculate_log_loss(model, val_loader):\n",
    "    model.eval()  # Set model to evaluation mode\n",
    "    all_probs, all_labels = [], []\n",
    "\n",
    "    with torch.no_grad():\n",
    "        for batch in val_loader:\n",
    "            input_ids = batch['input_ids'].to(device)\n",
    "            attention_mask = batch['attention_mask'].to(device)\n",
    "            labels = batch['labels'].cpu().numpy()  # True labels in one-hot format\n",
    "\n",
    "            outputs = model(input_ids=input_ids, attention_mask=attention_mask).logits\n",
    "            probs = torch.softmax(outputs, dim=1).cpu().numpy()  # Convert logits to probabilities\n",
    "\n",
    "            all_probs.extend(probs)\n",
    "            all_labels.extend(labels)  # Already in one-hot encoding\n",
    "\n",
    "    # Compute Log Loss\n",
    "    log_loss_value = log_loss(all_labels, all_probs)\n",
    "    print(f\"Log Loss on Validation Set: {log_loss_value:.4f}\")\n",
    "\n",
    "# Run the function\n",
    "calculate_log_loss(model, t_val_loader)\n"
   ]
  },
  {
   "cell_type": "code",
   "execution_count": 10,
   "id": "5d18d6ec-c1fd-450d-a35c-8fd06bee0c01",
   "metadata": {},
   "outputs": [
    {
     "name": "stdout",
     "output_type": "stream",
     "text": [
      "Log Loss on Validation Set: 0.2275\n",
      "Accuracy on Validation Set: 93.80%\n"
     ]
    },
    {
     "name": "stderr",
     "output_type": "stream",
     "text": [
      "C:\\Users\\shash\\AppData\\Local\\Programs\\Python\\Python312\\Lib\\site-packages\\sklearn\\metrics\\_classification.py:2956: UserWarning: The y_pred values do not sum to one. Make sure to pass probabilities.\n",
      "  warnings.warn(\n"
     ]
    }
   ],
   "source": [
    "from sklearn.metrics import log_loss, accuracy_score\n",
    "\n",
    "def evaluate_model_metrics(model, val_loader):\n",
    "    model.eval()  # Set model to evaluation mode\n",
    "    all_probs, all_preds, all_labels = [], [], []\n",
    "\n",
    "    with torch.no_grad():\n",
    "        for batch in val_loader:\n",
    "            input_ids = batch['input_ids'].to(device)\n",
    "            attention_mask = batch['attention_mask'].to(device)\n",
    "            labels = batch['labels'].cpu().numpy()  # True labels (one-hot encoded)\n",
    "\n",
    "            outputs = model(input_ids=input_ids, attention_mask=attention_mask).logits\n",
    "            probs = torch.softmax(outputs, dim=1).cpu().numpy()  # Convert logits to probabilities\n",
    "            preds = np.argmax(probs, axis=1)  # Get predicted class labels\n",
    "            true_labels = np.argmax(labels, axis=1)  # Convert one-hot labels to indices\n",
    "\n",
    "            all_probs.extend(probs)\n",
    "            all_preds.extend(preds)\n",
    "            all_labels.extend(true_labels)\n",
    "\n",
    "    # Compute Log Loss\n",
    "    log_loss_value = log_loss(all_labels, all_probs)\n",
    "\n",
    "    # Compute Accuracy\n",
    "    accuracy = accuracy_score(all_labels, all_preds)\n",
    "\n",
    "    print(f\"Log Loss on Validation Set: {log_loss_value:.4f}\")\n",
    "    print(f\"Accuracy on Validation Set: {accuracy * 100:.2f}%\")\n",
    "\n",
    "# Run the function\n",
    "evaluate_model_metrics(model, t_val_loader)\n"
   ]
  }
 ],
 "metadata": {
  "kernelspec": {
   "display_name": "Python 3 (ipykernel)",
   "language": "python",
   "name": "python3"
  },
  "language_info": {
   "codemirror_mode": {
    "name": "ipython",
    "version": 3
   },
   "file_extension": ".py",
   "mimetype": "text/x-python",
   "name": "python",
   "nbconvert_exporter": "python",
   "pygments_lexer": "ipython3",
   "version": "3.12.4"
  }
 },
 "nbformat": 4,
 "nbformat_minor": 5
}
